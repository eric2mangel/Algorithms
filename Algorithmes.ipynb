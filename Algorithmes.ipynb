{
  "nbformat": 4,
  "nbformat_minor": 0,
  "metadata": {
    "colab": {
      "name": "Algorithmes.ipynb",
      "provenance": [],
      "collapsed_sections": []
    },
    "kernelspec": {
      "name": "python3",
      "display_name": "Python 3"
    }
  },
  "cells": [
    {
      "cell_type": "markdown",
      "metadata": {
        "id": "SZV5FUicyjLQ"
      },
      "source": [
        "#Comparaison entre algo récursif modifié et version normale sur nombres de Fibonacci"
      ]
    },
    {
      "cell_type": "markdown",
      "metadata": {
        "id": "DEbYj2Oq0czj"
      },
      "source": [
        "##Algo récursif sans mémoization"
      ]
    },
    {
      "cell_type": "code",
      "metadata": {
        "id": "_vz9ppgZ4V_o"
      },
      "source": [
        "a=40"
      ],
      "execution_count": null,
      "outputs": []
    },
    {
      "cell_type": "code",
      "metadata": {
        "id": "7qDjZENSy56T"
      },
      "source": [
        "def recur(rang):\n",
        "  if (rang<=2):\n",
        "    return 1\n",
        "  return recur(rang-1) + recur (rang-2) "
      ],
      "execution_count": null,
      "outputs": []
    },
    {
      "cell_type": "code",
      "metadata": {
        "colab": {
          "base_uri": "https://localhost:8080/"
        },
        "id": "zt8YwurqzS74",
        "outputId": "9845bcbb-f4ce-4fed-eb29-69abf2289f92"
      },
      "source": [
        "%time recur(a)"
      ],
      "execution_count": null,
      "outputs": [
        {
          "output_type": "stream",
          "text": [
            "CPU times: user 21.1 s, sys: 9.95 ms, total: 21.2 s\n",
            "Wall time: 21.2 s\n"
          ],
          "name": "stdout"
        },
        {
          "output_type": "execute_result",
          "data": {
            "text/plain": [
              "102334155"
            ]
          },
          "metadata": {
            "tags": []
          },
          "execution_count": 52
        }
      ]
    },
    {
      "cell_type": "markdown",
      "metadata": {
        "id": "mnCuued41F2b"
      },
      "source": [
        "##Algo récursif avec mémoization"
      ]
    },
    {
      "cell_type": "code",
      "metadata": {
        "id": "4J_sspnIzVMK"
      },
      "source": [
        "memo={}\n",
        "def recur_memoiz(rang,memo={}):\n",
        "  if (rang in memo):\n",
        "    return memo[rang]\n",
        "  if (rang<=2):\n",
        "    return 1\n",
        "  memo[rang] = recur_memoiz(rang-1,memo) + recur_memoiz(rang-2,memo)\n",
        "  return memo[rang]"
      ],
      "execution_count": null,
      "outputs": []
    },
    {
      "cell_type": "code",
      "metadata": {
        "colab": {
          "base_uri": "https://localhost:8080/"
        },
        "id": "1nooUaKw1tqP",
        "outputId": "23042177-68f1-429b-9fee-32355175ef13"
      },
      "source": [
        "%time recur_memoiz(a)"
      ],
      "execution_count": null,
      "outputs": [
        {
          "output_type": "stream",
          "text": [
            "CPU times: user 32 µs, sys: 0 ns, total: 32 µs\n",
            "Wall time: 34.8 µs\n"
          ],
          "name": "stdout"
        },
        {
          "output_type": "execute_result",
          "data": {
            "text/plain": [
              "102334155"
            ]
          },
          "metadata": {
            "tags": []
          },
          "execution_count": 54
        }
      ]
    },
    {
      "cell_type": "markdown",
      "metadata": {
        "id": "FrPTnKgI3zUj"
      },
      "source": [
        "##Algo non récursif"
      ]
    },
    {
      "cell_type": "code",
      "metadata": {
        "id": "t_Dryyzd2eK5"
      },
      "source": [
        "def fibonacci_loop(num):\n",
        "    if num == 0:\n",
        "        return 0\n",
        "    elif num == 1 or num == 2:\n",
        "        return 1\n",
        "    elif num > 2:\n",
        "        a = 1 # variable for (n - 1)\n",
        "        b = 1 # variable for (n - 2)\n",
        "        for _ in range(3, num + 1):\n",
        "            c = a + b\n",
        "            a, b = b, c\n",
        "        return c"
      ],
      "execution_count": null,
      "outputs": []
    },
    {
      "cell_type": "code",
      "metadata": {
        "colab": {
          "base_uri": "https://localhost:8080/"
        },
        "id": "wccq5ZU6351I",
        "outputId": "60a0f433-cc6c-4e1f-d1cb-1d48743033a3"
      },
      "source": [
        "%time fibonacci_loop(a)"
      ],
      "execution_count": null,
      "outputs": [
        {
          "output_type": "stream",
          "text": [
            "CPU times: user 16 µs, sys: 0 ns, total: 16 µs\n",
            "Wall time: 17.6 µs\n"
          ],
          "name": "stdout"
        },
        {
          "output_type": "execute_result",
          "data": {
            "text/plain": [
              "102334155"
            ]
          },
          "metadata": {
            "tags": []
          },
          "execution_count": 56
        }
      ]
    },
    {
      "cell_type": "code",
      "metadata": {
        "id": "g-zcb0dV361h"
      },
      "source": [
        ""
      ],
      "execution_count": null,
      "outputs": []
    }
  ]
}